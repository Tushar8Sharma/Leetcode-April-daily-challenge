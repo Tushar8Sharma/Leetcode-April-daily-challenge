{
  "nbformat": 4,
  "nbformat_minor": 0,
  "metadata": {
    "colab": {
      "name": "Day7",
      "provenance": [],
      "collapsed_sections": []
    },
    "kernelspec": {
      "name": "python3",
      "display_name": "Python 3"
    }
  },
  "cells": [
    {
      "cell_type": "code",
      "metadata": {
        "id": "PF5vFYDrrv1s",
        "colab_type": "code",
        "colab": {}
      },
      "source": [
        "Given an integer array arr, count element x such that x + 1 is also in arr.\n",
        "\n",
        "If there're duplicates in arr, count them seperately."
      ],
      "execution_count": 0,
      "outputs": []
    },
    {
      "cell_type": "code",
      "metadata": {
        "id": "b45xziqZqllb",
        "colab_type": "code",
        "colab": {}
      },
      "source": [
        "class Solution(object):\n",
        "    def countElements(self, arr):\n",
        "        \"\"\"\n",
        "        :type arr: List[int]\n",
        "        :rtype: int\n",
        "        \"\"\"\n",
        "        count = 0\n",
        "        for i in range(len(arr)):\n",
        "          for j in range(len(arr)):\n",
        "            if i!=j and arr[i]+1==arr[j]:\n",
        "              count+=1\n",
        "              break\n",
        "        return count"
      ],
      "execution_count": 0,
      "outputs": []
    },
    {
      "cell_type": "code",
      "metadata": {
        "id": "e9v5iMKMrkA5",
        "colab_type": "code",
        "colab": {}
      },
      "source": [
        "arr=[1,2,3]\n",
        "arr = [1,1,2,2]\n",
        "arr = [1,3,2,3,5,0]\n",
        "sol = Solution()"
      ],
      "execution_count": 0,
      "outputs": []
    },
    {
      "cell_type": "code",
      "metadata": {
        "id": "GN01B0V-rx0g",
        "colab_type": "code",
        "colab": {
          "base_uri": "https://localhost:8080/",
          "height": 34
        },
        "outputId": "e9d9cac4-ef40-4de0-b34f-18a7360ebad6"
      },
      "source": [
        "print(sol.countElements(arr))"
      ],
      "execution_count": 77,
      "outputs": [
        {
          "output_type": "stream",
          "text": [
            "3\n"
          ],
          "name": "stdout"
        }
      ]
    },
    {
      "cell_type": "code",
      "metadata": {
        "id": "PUFjEJ-Ar1WP",
        "colab_type": "code",
        "colab": {}
      },
      "source": [
        ""
      ],
      "execution_count": 0,
      "outputs": []
    }
  ]
}
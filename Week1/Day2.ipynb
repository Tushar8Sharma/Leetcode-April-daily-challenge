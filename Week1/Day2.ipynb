{
  "nbformat": 4,
  "nbformat_minor": 0,
  "metadata": {
    "colab": {
      "name": "Day2",
      "provenance": []
    },
    "kernelspec": {
      "name": "python3",
      "display_name": "Python 3"
    }
  },
  "cells": [
    {
      "cell_type": "code",
      "metadata": {
        "id": "ZBNKPNodFsBv",
        "colab_type": "code",
        "colab": {}
      },
      "source": [
        "Write an algorithm to determine if a number is \"happy\".\n",
        "\n",
        "A happy number is a number defined by the following process: Starting with any positive integer, replace the number by the sum of the squares of its digits,\n",
        "and repeat the process until the number equals 1 (where it will stay), or it loops endlessly in a cycle which does not include 1. Those numbers for which this\n",
        "process ends in 1 are happy numbers."
      ],
      "execution_count": 0,
      "outputs": []
    },
    {
      "cell_type": "code",
      "metadata": {
        "id": "iRNVWNLdAzds",
        "colab_type": "code",
        "colab": {}
      },
      "source": [
        "class Solution(object):\n",
        "    def isHappy(self, n):\n",
        "        \"\"\"\n",
        "        :type n: int\n",
        "        :rtype: bool\n",
        "        \"\"\"\n",
        "        i = 0\n",
        "        while(i<6):\n",
        "            sum1 = 0\n",
        "            while(n>0):\n",
        "                r = n%10\n",
        "                n = int(n/10)\n",
        "                sum1 += r**2\n",
        "            if sum1==1:\n",
        "                return True\n",
        "            n = sum1\n",
        "            i += 1"
      ],
      "execution_count": 0,
      "outputs": []
    },
    {
      "cell_type": "code",
      "metadata": {
        "id": "Izv6nHeUA8Bg",
        "colab_type": "code",
        "colab": {}
      },
      "source": [
        "num = 19\n",
        "sol = Solution()"
      ],
      "execution_count": 0,
      "outputs": []
    },
    {
      "cell_type": "code",
      "metadata": {
        "id": "d_CBqDjQBHR2",
        "colab_type": "code",
        "colab": {
          "base_uri": "https://localhost:8080/",
          "height": 34
        },
        "outputId": "d6b464f0-6bba-4c4f-96d6-83a6f0103bbc"
      },
      "source": [
        "print(sol.isHappy(num))"
      ],
      "execution_count": 15,
      "outputs": [
        {
          "output_type": "stream",
          "text": [
            "True\n"
          ],
          "name": "stdout"
        }
      ]
    },
    {
      "cell_type": "code",
      "metadata": {
        "id": "odZBvJVxEavf",
        "colab_type": "code",
        "colab": {}
      },
      "source": [
        ""
      ],
      "execution_count": 0,
      "outputs": []
    }
  ]
}
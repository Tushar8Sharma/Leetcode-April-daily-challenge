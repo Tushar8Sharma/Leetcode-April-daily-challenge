{
  "nbformat": 4,
  "nbformat_minor": 0,
  "metadata": {
    "colab": {
      "name": "Day3",
      "provenance": [],
      "collapsed_sections": []
    },
    "kernelspec": {
      "name": "python3",
      "display_name": "Python 3"
    }
  },
  "cells": [
    {
      "cell_type": "code",
      "metadata": {
        "id": "cBsCHFGrAacy",
        "colab_type": "code",
        "colab": {}
      },
      "source": [
        "Given an integer array nums, find the contiguous subarray (containing at least one number) which has the largest sum and return its sum."
      ],
      "execution_count": 0,
      "outputs": []
    },
    {
      "cell_type": "code",
      "metadata": {
        "id": "SBGmRkyDibwq",
        "colab_type": "code",
        "colab": {}
      },
      "source": [
        "class Solution(object):\n",
        "    def maxSubArray(self, nums):\n",
        "        \"\"\"\n",
        "        :type nums: List[int]\n",
        "        :rtype: int\n",
        "        \"\"\"\n",
        "        arr = [0]*(len(nums))\n",
        "        arr[0]= nums[0]\n",
        "        for i in range(1,len(nums)):\n",
        "            arr[i] = max(arr[i-1]+nums[i],nums[i])\n",
        "        return max(arr)"
      ],
      "execution_count": 0,
      "outputs": []
    },
    {
      "cell_type": "code",
      "metadata": {
        "id": "8mM1Hn1Minmg",
        "colab_type": "code",
        "colab": {}
      },
      "source": [
        "arr = [-2,1,-3,4,-1,2,1,-5,4]\n",
        "# arr = [1]\n",
        "# arr = [-2,-1]\n",
        "sol = Solution()"
      ],
      "execution_count": 0,
      "outputs": []
    },
    {
      "cell_type": "code",
      "metadata": {
        "id": "pRPmt4wHjpca",
        "colab_type": "code",
        "colab": {
          "base_uri": "https://localhost:8080/",
          "height": 34
        },
        "outputId": "20c26a22-046d-416e-c8f4-c972fcaac363"
      },
      "source": [
        "print(sol.maxSubArray(arr))"
      ],
      "execution_count": 111,
      "outputs": [
        {
          "output_type": "stream",
          "text": [
            "6\n"
          ],
          "name": "stdout"
        }
      ]
    },
    {
      "cell_type": "code",
      "metadata": {
        "id": "YSB776YzAZuA",
        "colab_type": "code",
        "colab": {}
      },
      "source": [
        ""
      ],
      "execution_count": 0,
      "outputs": []
    },
    {
      "cell_type": "code",
      "metadata": {
        "id": "LlH05O3cjuI-",
        "colab_type": "code",
        "colab": {}
      },
      "source": [
        ""
      ],
      "execution_count": 0,
      "outputs": []
    }
  ]
}
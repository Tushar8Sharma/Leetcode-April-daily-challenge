{
  "nbformat": 4,
  "nbformat_minor": 0,
  "metadata": {
    "colab": {
      "name": "Day5",
      "provenance": []
    },
    "kernelspec": {
      "name": "python3",
      "display_name": "Python 3"
    }
  },
  "cells": [
    {
      "cell_type": "code",
      "metadata": {
        "id": "ioTxmOSYeIc3",
        "colab_type": "code",
        "colab": {}
      },
      "source": [
        "class Solution(object):\n",
        "    def maxProfit(self, prices):\n",
        "        \"\"\"\n",
        "        :type prices: List[int]\n",
        "        :rtype: int\n",
        "        \"\"\"\n",
        "        n = len(prices)\n",
        "        if n==1:\n",
        "          return 0\n",
        "        sum=0\n",
        "        i=0\n",
        "        while(i<n-1):\n",
        "          while((i<(n-1)) and (prices[i+1]<=prices[i])):\n",
        "            i += 1\n",
        "          if i==n-1:\n",
        "            break\n",
        "          buy = i\n",
        "          i+=1\n",
        "          while((i<n) and (prices[i]>=prices[i-1])):\n",
        "            i+=1\n",
        "          sell = i-1\n",
        "          sum = sum - prices[buy] + prices[sell]\n",
        "        return sum"
      ],
      "execution_count": 0,
      "outputs": []
    },
    {
      "cell_type": "code",
      "metadata": {
        "id": "wFV_-U9Br8bO",
        "colab_type": "code",
        "colab": {}
      },
      "source": [
        "sol = Solution()\n",
        "arr = [7,1,5,3,6,4]\n",
        "# arr = [1,2,3,4,5]\n",
        "arr = [7,6,4,3,1]"
      ],
      "execution_count": 0,
      "outputs": []
    },
    {
      "cell_type": "code",
      "metadata": {
        "id": "pr4VyWXusE1B",
        "colab_type": "code",
        "colab": {
          "base_uri": "https://localhost:8080/",
          "height": 34
        },
        "outputId": "bef7a008-498b-4090-f94a-82ced22236d6"
      },
      "source": [
        "print(sol.maxProfit(arr))"
      ],
      "execution_count": 82,
      "outputs": [
        {
          "output_type": "stream",
          "text": [
            "0\n"
          ],
          "name": "stdout"
        }
      ]
    }
  ]
}
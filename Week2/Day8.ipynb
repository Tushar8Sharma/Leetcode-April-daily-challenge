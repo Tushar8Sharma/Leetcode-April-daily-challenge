{
  "nbformat": 4,
  "nbformat_minor": 0,
  "metadata": {
    "colab": {
      "name": "Day8",
      "provenance": []
    },
    "kernelspec": {
      "name": "python3",
      "display_name": "Python 3"
    }
  },
  "cells": [
    {
      "cell_type": "code",
      "metadata": {
        "id": "QFh-PFpV3BII",
        "colab_type": "code",
        "colab": {}
      },
      "source": [
        "Given a non-empty, singly linked list with head node head, return a middle node of linked list.\n",
        "\n",
        "If there are two middle nodes, return the second middle node."
      ],
      "execution_count": 0,
      "outputs": []
    },
    {
      "cell_type": "code",
      "metadata": {
        "id": "ectQSb6n233K",
        "colab_type": "code",
        "colab": {}
      },
      "source": [
        "# Definition for singly-linked list.\n",
        "# class ListNode(object):\n",
        "#     def __init__(self, x):\n",
        "#         self.val = x\n",
        "#         self.next = None\n",
        "\n",
        "class Solution(object):\n",
        "    def middleNode(self, head):\n",
        "        \"\"\"\n",
        "        :type head: ListNode\n",
        "        :rtype: ListNode\n",
        "        \"\"\"\n",
        "        count = 1\n",
        "        ptr = head\n",
        "        while(ptr.next!=None):\n",
        "            ptr = ptr.next\n",
        "            count += 1\n",
        "        ptr = head\n",
        "        if count%2==0:\n",
        "            i = 1\n",
        "            while(i<(count/2)+1):\n",
        "                ptr = ptr.next\n",
        "                i +=1\n",
        "                print(i)\n",
        "            return ptr\n",
        "        else:\n",
        "            i = 0\n",
        "            while(i<(count/2)):\n",
        "                ptr = ptr.next\n",
        "                i +=1\n",
        "            return ptr"
      ],
      "execution_count": 0,
      "outputs": []
    },
    {
      "cell_type": "code",
      "metadata": {
        "id": "Dz7om7xy-W1Z",
        "colab_type": "code",
        "colab": {}
      },
      "source": [
        ""
      ],
      "execution_count": 0,
      "outputs": []
    }
  ]
}